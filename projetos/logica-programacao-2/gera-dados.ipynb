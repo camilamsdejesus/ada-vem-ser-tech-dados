{
 "cells": [
  {
   "cell_type": "code",
   "execution_count": 10,
   "metadata": {},
   "outputs": [
    {
     "name": "stdout",
     "output_type": "stream",
     "text": [
      "A base de dados foi salva em base_de_dados.json\n"
     ]
    }
   ],
   "source": [
    "import json\n",
    "import random\n",
    "\n",
    "def gerar_nome():\n",
    "    nomes = [\"Ana\", \"Carlos\", \"Mariana\", \"Lucas\", \"Isabel\", \"João\", \"Camila\", \"Pedro\", \"Gabriela\", \"Rafael\"]\n",
    "    sobrenomes = [\"Silva\", \"Oliveira\", \"Santos\", \"Lima\", \"Souza\", \"Pereira\", \"Costa\", \"Martins\", \"Almeida\", \"Ribeiro\"]\n",
    "    return f\"{random.choice(nomes)} {random.choice(sobrenomes)}\"\n",
    "\n",
    "def gerar_idade():\n",
    "    return random.randint(18, 60)\n",
    "\n",
    "def gerar_sexo():\n",
    "    return random.choice([\"Masculino\", \"Feminino\"])\n",
    "\n",
    "def gerar_empregado():\n",
    "    return random.choice([True, False])\n",
    "\n",
    "def gerar_area_atuacao(empregado):\n",
    "    areas = [\"TI\", \"Engenharia\", \"Saude\", \"Marketing\", \"Educacao\", \"Administracao\", \"Financas\"]\n",
    "    return random.choice(areas) if empregado else \"Nenhuma\"\n",
    "\n",
    "def gerar_salario(empregado):\n",
    "    return round(random.uniform(3000.00, 10000.00), 2) if empregado else 0\n",
    "\n",
    "def gerar_registro():\n",
    "    empregado = gerar_empregado()\n",
    "    return {\n",
    "        \"nome\": gerar_nome(),\n",
    "        \"idade\": gerar_idade(),\n",
    "        \"sexo\": gerar_sexo(),\n",
    "        \"empregado\": empregado,\n",
    "        \"area_atuacao\": gerar_area_atuacao(empregado),\n",
    "        \"salario\": gerar_salario(empregado)\n",
    "    }\n",
    "\n",
    "def criar_base_dados(numero_registros=1000):\n",
    "    base_de_dados = [gerar_registro() for _ in range(numero_registros)]\n",
    "    return base_de_dados\n",
    "\n",
    "def salvar_json(base_de_dados, nome_arquivo=\"dados.json\"):\n",
    "    with open(nome_arquivo, 'w') as file:\n",
    "        json.dump(base_de_dados, file, indent=2)\n",
    "    print(f\"A base de dados foi salva em {nome_arquivo}\")\n",
    "\n",
    "if __name__ == \"__main__\":\n",
    "    numero_registros = 1000\n",
    "    base_de_dados = criar_base_dados(numero_registros)\n",
    "    salvar_json(base_de_dados)\n"
   ]
  }
 ],
 "metadata": {
  "kernelspec": {
   "display_name": "Python 3",
   "language": "python",
   "name": "python3"
  },
  "language_info": {
   "codemirror_mode": {
    "name": "ipython",
    "version": 3
   },
   "file_extension": ".py",
   "mimetype": "text/x-python",
   "name": "python",
   "nbconvert_exporter": "python",
   "pygments_lexer": "ipython3",
   "version": "3.11.4"
  }
 },
 "nbformat": 4,
 "nbformat_minor": 2
}
