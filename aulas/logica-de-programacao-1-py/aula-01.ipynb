{
 "cells": [
  {
   "cell_type": "markdown",
   "metadata": {},
   "source": [
    "# Variáveis, entradas e saídas"
   ]
  },
  {
   "cell_type": "code",
   "execution_count": 18,
   "metadata": {},
   "outputs": [],
   "source": [
    "x = 20  # X é a v\n",
    "nome = \"Renata\""
   ]
  },
  {
   "cell_type": "markdown",
   "metadata": {},
   "source": [
    "**x** é a variavel, **=** é o operador de atribuição e **20** é o dado armazenado"
   ]
  },
  {
   "cell_type": "markdown",
   "metadata": {},
   "source": [
    "**nome ** é a variável  **Renata** é o dado armazenado na variável  **=** operador de atribuição"
   ]
  },
  {
   "cell_type": "markdown",
   "metadata": {},
   "source": [
    "# Tipos de variáveis\n",
    "\n",
    "- int: números inteiros, ou seja, números sem parte decimal: 0, 5, -1, 1000\n",
    "- float: números reais, ou seja, números com parte decimal: 1.0, -2.7, 3.14\n",
    "- str: cadeias de caracteres (strings), ou seja, dados textuais: 'Olá Mundo!', \"eu tenho 18 anos\"\n",
    "- bool: valores lógicos (booleanos), ou seja, apenas um entre dois valores possíveis: True ou False"
   ]
  },
  {
   "cell_type": "code",
   "execution_count": 20,
   "metadata": {},
   "outputs": [],
   "source": [
    "idade = 18\n",
    "altura = 1.72\n",
    "nome = 'Camila'\n",
    "aprovada = True"
   ]
  },
  {
   "cell_type": "markdown",
   "metadata": {},
   "source": [
    "# Comentários\n"
   ]
  },
  {
   "cell_type": "code",
   "execution_count": 28,
   "metadata": {},
   "outputs": [
    {
     "data": {
      "text/plain": [
       "'\\nBloco de comentário de várias linhas\\netc\\n'"
      ]
     },
     "execution_count": 28,
     "metadata": {},
     "output_type": "execute_result"
    }
   ],
   "source": [
    "# Comentário em uma única linha\n",
    "\n",
    "'''\n",
    "Bloco de comentário de várias linhas\n",
    "etc\n",
    "'''"
   ]
  },
  {
   "cell_type": "markdown",
   "metadata": {},
   "source": [
    "# Saída"
   ]
  },
  {
   "cell_type": "code",
   "execution_count": 22,
   "metadata": {},
   "outputs": [
    {
     "name": "stdout",
     "output_type": "stream",
     "text": [
      "Olá Mundo\n",
      "Meu nome é  Camila tenho 18 anos e 1.72 de altura\n",
      "\n",
      "Usando o print f\n",
      "Meu nome é  Camila, tenho 18 anos e 1.72 de altura\n",
      "Usando o  format\n",
      "Meu nome é  Camila, tenho 18 anos e 1.72 de altura\n",
      "\n",
      "\n"
     ]
    }
   ],
   "source": [
    "idade = 18\n",
    "altura = 1.72\n",
    "nome = 'Camila'\n",
    "aprovada = True\n",
    "\n",
    "print('Olá Mundo')\n",
    "print(\"Meu nome é \", nome, \"tenho\", idade ,'anos e', altura, \"de altura\")\n",
    "print()\n",
    "print(\"Usando o print f\")\n",
    "print(f\"Meu nome é  {nome}, tenho {idade} anos e {altura} de altura\")\n",
    "print(\"Usando o  format\")\n",
    "print(\"Meu nome é  {}, tenho {} anos e {} de altura\".format(nome,idade,altura))\n",
    "print(\"\\n\") #pular linha\n"
   ]
  },
  {
   "cell_type": "markdown",
   "metadata": {},
   "source": [
    "# Entrada"
   ]
  },
  {
   "cell_type": "code",
   "execution_count": 29,
   "metadata": {},
   "outputs": [
    {
     "name": "stdout",
     "output_type": "stream",
     "text": [
      "O nome informado é Camila\n"
     ]
    }
   ],
   "source": [
    "nome = input(\"Digite nome\")\n",
    "print(\"O nome informado é\",nome)"
   ]
  },
  {
   "cell_type": "code",
   "execution_count": 31,
   "metadata": {},
   "outputs": [
    {
     "name": "stdout",
     "output_type": "stream",
     "text": [
      "A idade informada é 12\n"
     ]
    }
   ],
   "source": [
    "idade = int(input(\"Digite a idade\"))\n",
    "print(\"A idade informada é\", idade)"
   ]
  },
  {
   "cell_type": "markdown",
   "metadata": {},
   "source": [
    "# Operadores\n",
    "\n",
    "- Soma: +\n",
    "- Subtração: -\n",
    "- Multiplicação: *\n",
    "- Divisão: /\n",
    "- Divisão inteira: //\n",
    "- Resto da divisão: %\n",
    "- Potência: **"
   ]
  },
  {
   "cell_type": "code",
   "execution_count": 23,
   "metadata": {},
   "outputs": [
    {
     "name": "stdout",
     "output_type": "stream",
     "text": [
      "Soma: 1 + 2 = 3\n",
      "Subtração: 1 - 2 = -1\n",
      "Multiplicação: 1 * 2 = 2\n",
      "Divisão: 1 / 2 = 0.5\n",
      "Divisão Inteira: 1 // 2 = 0\n",
      "Resto: 1 % 2 = 1\n"
     ]
    }
   ],
   "source": [
    "a = 1\n",
    "b = 2\n",
    "\n",
    "soma = a + b\n",
    "print(\"Soma:\",a,\"+\",b,\"=\",soma)\n",
    "\n",
    "subtracao = a - b\n",
    "print(\"Subtração:\",a,\"-\",b,\"=\",subtracao)\n",
    "\n",
    "mult = a * b\n",
    "print(\"Multiplicação:\",a,\"*\",b,\"=\",mult)\n",
    "\n",
    "divisao = a / b\n",
    "print(\"Divisão:\",a,\"/\",b,\"=\",divisao)\n",
    "\n",
    "divisao_inteira = a // b\n",
    "print(\"Divisão Inteira:\",a,\"//\",b,\"=\",divisao_inteira)\n",
    "\n",
    "resto = a % b\n",
    "print(\"Resto:\",a,\"%\",b,\"=\",resto)"
   ]
  },
  {
   "cell_type": "markdown",
   "metadata": {},
   "source": [
    "# Operadores lógicos\n",
    "\n",
    "\n",
    "- Maior que: >\n",
    "- Maior ou igual: >=\n",
    "- Menor que: <\n",
    "- Menor ou igual: <=\n",
    "- Igual: ==\n",
    "- Diferente: !="
   ]
  },
  {
   "cell_type": "code",
   "execution_count": 24,
   "metadata": {},
   "outputs": [
    {
     "name": "stdout",
     "output_type": "stream",
     "text": [
      "1  >  2\n"
     ]
    }
   ],
   "source": [
    "a = 1\n",
    "b = 2\n",
    "\n",
    "if b > a:\n",
    "    print(a,\" > \",b)"
   ]
  },
  {
   "cell_type": "markdown",
   "metadata": {},
   "source": [
    "**Operadores lógicos**\n",
    "\n",
    "|     Operador    |                            Definição                           |     Operação    |\n",
    "|:---------------:|:--------------------------------------------------------------:|:---------------:|\n",
    "|        and      |     Retorna   True se ambas as afirmações forem verdadeiras    |         e       |\n",
    "|        or       |       Retorna   True se uma das afirmações for verdadeira      |        ou       |\n",
    "|        not      |          retorna   Falso se o resultado for verdadeiro         |        não      |\n",
    "\n",
    "\n",
    "**AND** é uma conjunção lógica e o **OR** é uma disjunção lógica. O **not** é a negação lógica."
   ]
  },
  {
   "cell_type": "markdown",
   "metadata": {},
   "source": [
    "# Expressões condicionais\n",
    "\n",
    "Formatação do if-else\n",
    "\n",
    "```python\n",
    "\n",
    "if condicao(comparação) :\n",
    "    to do (se for verdadeiro)\n",
    "else:\n",
    "    to do (caso contrario)\n",
    "\n",
    "```\n",
    "\n",
    "Aninhando as condições\n",
    "\n",
    "\n",
    "```python\n",
    "if condicao :\n",
    "    to do\n",
    "else:\n",
    "    if condicao:\n",
    "    else:\n",
    "        if condicao:\n",
    "            else:\n",
    "                if condicao:\n",
    "                    else:\n",
    "\n",
    "```\n",
    "\n",
    "Formatação com if-elif-else\n",
    "\n",
    "```python\n",
    "if condicao :\n",
    "    to do\n",
    "elif condicao:\n",
    "    to do\n",
    "elif condicaoo:\n",
    "     to do\n",
    "else:\n",
    "\n",
    "```"
   ]
  },
  {
   "cell_type": "code",
   "execution_count": 27,
   "metadata": {},
   "outputs": [
    {
     "name": "stdout",
     "output_type": "stream",
     "text": [
      "Aluno aprovado\n"
     ]
    }
   ],
   "source": [
    "# Aluno é aprovado com média 6\n",
    "# aluno em recuperação com média entre 3 e 5.9\n",
    "# Abaixo de 3 está reprovado\n",
    "\n",
    "\n",
    "media = input(\"Digite a média do aluno: \")\n",
    "\n",
    "nova_media = float(media)\n",
    "\n",
    "if nova_media >= 6: #se o aluno tem média acima de 6\n",
    "    print('Aluno aprovado')\n",
    "elif nova_media >= 3:\n",
    "    print(\"Aluno em recuperação\")\n",
    "else:\n",
    "    print('Aluno reprovado')\n",
    "    "
   ]
  },
  {
   "cell_type": "markdown",
   "metadata": {},
   "source": [
    "# Malhas de repetição\n",
    "\n",
    "\n",
    "```python\n",
    "while (condicao é verdadeira): # condição\n",
    "    to do  # só executa se a condição for verdadeira\n",
    "\n",
    "```  \n",
    "\n",
    "```python\n",
    "for item in sequencia:\n",
    "    to do\n",
    "```\n"
   ]
  },
  {
   "cell_type": "code",
   "execution_count": null,
   "metadata": {},
   "outputs": [],
   "source": [
    "contador = 0\n",
    "\n",
    "while contador <= 100:\n",
    "    if contador % 10 == 0 : # o resto da divisão é zero?\n",
    "        print(contador) # número\n",
    "    contador += 1 # contador = contador + 1"
   ]
  },
  {
   "cell_type": "code",
   "execution_count": null,
   "metadata": {},
   "outputs": [],
   "source": [
    "# for percorre uma sequencia: lista, tupla, um dicionário, uma string\n",
    "for contador in range(10):\n",
    "    print(contador) # repetir 10 linhas"
   ]
  },
  {
   "cell_type": "code",
   "execution_count": null,
   "metadata": {},
   "outputs": [],
   "source": [
    "class range(stop)\n",
    "class range(start, stop, step=1)"
   ]
  },
  {
   "cell_type": "markdown",
   "metadata": {},
   "source": [
    "**Comandos de manipulação de fluxo**\n",
    "\n",
    "Comando **break**: Utilizado para interromper a execução de um laço (for ou while) antes que ele termine normalmente.\n",
    "\n",
    "```python\n",
    "for item in sequencia:\n",
    "    if condicao:\n",
    "        break\n",
    "```\n",
    "\n",
    "Comando **continue**: Utilizado para pular a iteração atual de um laço e continuar com a próxima iteração.\n",
    "\n",
    "\n",
    "```python\n",
    "for item in sequencia:\n",
    "    if condicao:\n",
    "        continue\n",
    "    # O código aqui será executado apenas se a condição for falsa\n",
    "```\n",
    "   \n",
    "Comando **pass**: É usado como espaço reservado para código futuro. Não faz nada e é frequentemente usado para evitar erros de sintaxe em blocos vazios.\n",
    "\n",
    "```python\n",
    "if condicao:\n",
    "    pass  # código será adicionado posteriormente\n"
   ]
  }
 ],
 "metadata": {
  "kernelspec": {
   "display_name": "Python 3",
   "language": "python",
   "name": "python3"
  },
  "language_info": {
   "codemirror_mode": {
    "name": "ipython",
    "version": 3
   },
   "file_extension": ".py",
   "mimetype": "text/x-python",
   "name": "python",
   "nbconvert_exporter": "python",
   "pygments_lexer": "ipython3",
   "version": "3.10.8"
  }
 },
 "nbformat": 4,
 "nbformat_minor": 2
}
