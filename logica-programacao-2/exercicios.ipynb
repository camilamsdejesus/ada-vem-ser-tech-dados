{
 "cells": [
  {
   "cell_type": "markdown",
   "metadata": {},
   "source": [
    "Resolva de forma mais eficiente e sucinta usando listas e/ou tuplas:"
   ]
  },
  {
   "cell_type": "markdown",
   "metadata": {},
   "source": [
    "Faça um programa que olhe todos os itens de uma lista e diga quantos deles são pares."
   ]
  },
  {
   "cell_type": "code",
   "execution_count": 4,
   "metadata": {},
   "outputs": [
    {
     "name": "stdout",
     "output_type": "stream",
     "text": [
      " A lista possui 5 números pares\n"
     ]
    }
   ],
   "source": [
    "def qtd_pares(lista):\n",
    "    pares = sum(1 for numero in lista if numero % 2 == 0)\n",
    "    print(f\" A lista possui {pares} números pares\")\n",
    "\n",
    "\n",
    "lista = [1, 2, 3, 4, 5, 6, 7, 8, 9, 10]\n",
    "qtd_pares(lista)"
   ]
  },
  {
   "cell_type": "markdown",
   "metadata": {},
   "source": [
    "Faça um programa que imprima o maior número de uma lista, sem usar o método max()"
   ]
  },
  {
   "cell_type": "code",
   "execution_count": 5,
   "metadata": {},
   "outputs": [
    {
     "name": "stdout",
     "output_type": "stream",
     "text": [
      "O maior número na lista é: 13\n"
     ]
    }
   ],
   "source": [
    "def maior_numero(lista):\n",
    "    maior = lista[0]\n",
    "    for numero in lista[1:]:\n",
    "        if numero > maior:\n",
    "            maior = numero\n",
    "    \n",
    "    print(f\"O maior número na lista é: {maior}\")\n",
    "\n",
    "\n",
    "lista = [7, 2, 11, 5, 8, 13, 4]\n",
    "maior_numero(lista)\n",
    "\n",
    "\n",
    "\n"
   ]
  },
  {
   "cell_type": "markdown",
   "metadata": {},
   "source": [
    "Faça um Programa que peça as 4 notas bimestrais e mostre a média, usando listas."
   ]
  },
  {
   "cell_type": "code",
   "execution_count": 6,
   "metadata": {},
   "outputs": [
    {
     "name": "stdout",
     "output_type": "stream",
     "text": [
      "A média das notas bimestrais é: 6.75\n"
     ]
    }
   ],
   "source": [
    "def calcula_media(notas):\n",
    "    return sum(notas) / len(notas) if notas else None\n",
    "\n",
    "notas = [float(input(f\"Digite a nota do {i+1}º bimestre: \")) for i in range(4)]\n",
    "\n",
    "media_notas = calcula_media(notas)\n",
    "\n",
    "if media_notas is not None:\n",
    "    print(f\"A média das notas bimestrais é: {media_notas:.2f}\")\n",
    "else:\n",
    "    print(\"A lista de notas está vazia.\")\n",
    "\n"
   ]
  },
  {
   "cell_type": "markdown",
   "metadata": {},
   "source": [
    "Considere que temos uma lista com os nomes de todos os alunos de uma turma, e outra com as notas, na mesma ordem. Como faríamos para acessar, simultaneamente, o nome de um aluno e a sua nota?\n"
   ]
  },
  {
   "cell_type": "code",
   "execution_count": 7,
   "metadata": {},
   "outputs": [
    {
     "name": "stdout",
     "output_type": "stream",
     "text": [
      "Aluno: Camila, Nota: 8\n",
      "Aluno: Pedro, Nota: 5\n",
      "Aluno: Janaina, Nota: 7\n",
      "Aluno: Ricardo, Nota: 6\n"
     ]
    }
   ],
   "source": [
    "# Podemos usar o zip para combinar as listas como por exemplo\n",
    "nomes = [\"Camila\", \"Pedro\", \"Janaina\", \"Ricardo\"]\n",
    "notas = [8, 5, 7, 6]\n",
    "for nome, nota in zip(nomes, notas):\n",
    "    print(f\"Aluno: {nome}, Nota: {nota}\")"
   ]
  },
  {
   "cell_type": "markdown",
   "metadata": {},
   "source": [
    "Para que a entrega de alimentos seja feita com qualidade por um serviço de delivery, é muito importante que as caixas de transporte utilizadas por entregadores tenham um revestimento térmico interno, para manter a temperatura dos alimentos. Muitos destes revestimentos são importados de países que utilizam diferentes escalas de temperatura, de modo que as especificações quanto às temperaturas de operação podem gerar confusão."
   ]
  },
  {
   "cell_type": "markdown",
   "metadata": {},
   "source": [
    "Pensando nisso, escreva um código em Python que recebe um número (que possa ter casas decimais) e a escala de temperatura em que este valor se encontra e para qual ele deseja converter (Celsius, Kelvin ou Fahrenheit). Tanto na escala em que se encontra quanto para a que deseja converter, utilize as letras iniciais como entrada: Celsius - 'C', Kelvin - 'K' ou Fahrenheit - 'F'.\n",
    "\n",
    "Importante: o programa deve trabalhar apenas com as 3 escalas supracitadas! Então, não deixe de fazer as validações necessárias. Além disso, por definição, não existem temperaturas em Kelvin abaixo de zero (o valor zero pode existir), portanto verifique também esta condição para que sejam feitas conversões válidas!"
   ]
  },
  {
   "cell_type": "code",
   "execution_count": 20,
   "metadata": {},
   "outputs": [
    {
     "name": "stdout",
     "output_type": "stream",
     "text": [
      "A temperatura convertida é: 41.00 F\n"
     ]
    }
   ],
   "source": [
    "\n",
    "def celsius_to_fahrenheit(valor: float) -> float:\n",
    "    return 1.8 * valor + 32\n",
    "\n",
    "def fahrenheit_to_celsius(valor: float) -> float:\n",
    "    return (valor - 32) / 1.8\n",
    "\n",
    "def celsius_to_kelvin(valor: float) -> float:\n",
    "    return valor + 273\n",
    "\n",
    "def kelvin_to_celsius(valor: float) -> float: \n",
    "\treturn valor - 273\n",
    "\n",
    "def fahrenheit_to_kelvin(valor: float) -> float:\n",
    "    return (valor - 32) * 5/9 + 273\n",
    "\n",
    "\n",
    "\n",
    "def kelvin_to_fahrenheit(valor: float) -> float:\n",
    "    return (valor - 273) * 1.8 + 32\n",
    "\n",
    "\n",
    "def mesma_op(valor: float) -> float:\n",
    "    return valor\n",
    "\n",
    "\n",
    "\n",
    "def converte_temperatura(entrada, escala_entrada, escala_saida):\n",
    "    escalas_temperatura = {'C', 'F', 'K'}\n",
    "\n",
    "    if escala_entrada not in escalas_temperatura or escala_saida not in escalas_temperatura:\n",
    "        return \"Escalas de temperatura não suportadas\"\n",
    "    \n",
    "    if escala_entrada == escala_saida:\n",
    "        return \"As escalas de origem e destino não podem ser iguais.\"\n",
    "    \n",
    "    if escala_entrada == 'K' and entrada < 0:\n",
    "        return \"A temperatura em Kelvin não pode ser inferior a zero.\"\n",
    "\n",
    "    conversao = {\n",
    "        ('C', 'F'): celsius_to_fahrenheit,\n",
    "        ('F', 'C'): fahrenheit_to_celsius,\n",
    "        ('C', 'K'): celsius_to_kelvin,\n",
    "        ('K', 'C'): kelvin_to_celsius,\n",
    "        ('F', 'K'): fahrenheit_to_kelvin,\n",
    "        ('K', 'F'): kelvin_to_fahrenheit,\n",
    "    }\n",
    "\n",
    "\n",
    "    return conversao[(escala_entrada, escala_saida)](entrada)\n",
    "\n",
    "\n",
    "try:\n",
    "    \n",
    "    entrada = float(input(\"Informe a temperatura: \"))\n",
    "    escala_entrada = input(\"Escolha a escala de entrada (C, K, F): \").upper()\n",
    "    escala_saida = input(\"Escolha a escala de saída (C, K, F): \").upper()\n",
    "    \n",
    "    temperatura_saida = converte_temperatura(entrada, escala_entrada, escala_saida)\n",
    "\n",
    "    print(f\"A temperatura convertida é: {temperatura_saida:.2f} {escala_saida}\")\n",
    "\n",
    "except ValueError:\n",
    "    print(\"Por favor, digite um número válido para a temperatura.\")\n",
    "\n"
   ]
  }
 ],
 "metadata": {
  "kernelspec": {
   "display_name": "Python 3",
   "language": "python",
   "name": "python3"
  },
  "language_info": {
   "codemirror_mode": {
    "name": "ipython",
    "version": 3
   },
   "file_extension": ".py",
   "mimetype": "text/x-python",
   "name": "python",
   "nbconvert_exporter": "python",
   "pygments_lexer": "ipython3",
   "version": "3.11.4"
  }
 },
 "nbformat": 4,
 "nbformat_minor": 2
}
