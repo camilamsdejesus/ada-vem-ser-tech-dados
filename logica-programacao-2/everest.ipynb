{
  "nbformat": 4,
  "nbformat_minor": 0,
  "metadata": {
    "colab": {
      "provenance": []
    },
    "kernelspec": {
      "name": "python3",
      "display_name": "Python 3"
    },
    "language_info": {
      "name": "python"
    }
  },
  "cells": [
    {
      "cell_type": "code",
      "execution_count": null,
      "metadata": {
        "id": "F6EFFhbMfYMz"
      },
      "outputs": [],
      "source": []
    },
    {
      "cell_type": "markdown",
      "source": [
        "##Elementos individuais de listas\n",
        "Muitas vezes, precisamos acessar elementos individuais de listas, o que é possível de ser feito a partir de sua indexação.\n",
        "\n",
        "Sabendo disso, crie uma função retornaPenultimoEQuartoElementodeLista() que recebe uma lista e retorne o quarto e o penúltimo elemento desta lista, nesta ordem."
      ],
      "metadata": {
        "id": "PEk0GmFFfauX"
      }
    },
    {
      "cell_type": "code",
      "source": [
        "def retornaPenultimoEQuartoElementodeLista(tuplaA):\n",
        "\tlista=[]\n",
        "\tif len(tuplaA)>=4:\n",
        "\t\tlista.append(tuplaA[3])\n",
        "\t\tlista.append(tuplaA[-2])\n",
        "\treturn lista"
      ],
      "metadata": {
        "id": "3aQK9LaQfdIR"
      },
      "execution_count": null,
      "outputs": []
    },
    {
      "cell_type": "markdown",
      "source": [
        "## Indexação de listas e último elemento\n",
        "Uma lista possui n elementos, sendo comum executarmos determinadas ações em um elemento de determinada posição. Por exemplo, podemos substituir o elemento da primeira posição da lista por outro valor desejado. Quando selecionamos um elemento, chamamos isto de indexação.\n",
        "\n",
        "Sendo assim, escreva uma função ultimoElemento() em python que recebe uma lista e retorna o último elemento da lista."
      ],
      "metadata": {
        "id": "AzJc-TWHfoJY"
      }
    },
    {
      "cell_type": "code",
      "source": [
        "def ultimoElemento(listaA):\n",
        "\ttamanho  = len(listaA)\n",
        "\treturn listaA[tamanho-1]\n",
        "\n",
        "\n",
        "listaA = [1,20,5]\n",
        "ultimoElemento(listaA)"
      ],
      "metadata": {
        "colab": {
          "base_uri": "https://localhost:8080/"
        },
        "id": "6Aia1n1hfo_E",
        "outputId": "1c027ae4-1aee-4a16-81be-303abf0a8898"
      },
      "execution_count": null,
      "outputs": [
        {
          "output_type": "execute_result",
          "data": {
            "text/plain": [
              "5"
            ]
          },
          "metadata": {},
          "execution_count": 2
        }
      ]
    },
    {
      "cell_type": "markdown",
      "source": [
        "## Ordenando listas\n",
        "Em um sistema, comumente utilizamos listas para armazenamento de dados. Entretanto, existem casos em que torna-se necessário criarmos um padrão de organização dos dados. Por exemplo, podemos organizar um cadastro de clientes pela idade destes usuários. Este procedimento de organização é conhecido como ordenação.\n",
        "\n",
        "Sabendo disso, crie uma função chamada ordena_lista() que recebe uma lista de elementos e ordene-os em ordem decrescente. A função possui como parâmetro a lista a ser ordenada e retorna a mesma lista ordenada de forma decrescente."
      ],
      "metadata": {
        "id": "tWeqxIRHgYWP"
      }
    },
    {
      "cell_type": "code",
      "source": [
        "def ordena_lista(listaA):\n",
        "    tamanho = len(listaA)\n",
        "    lista =[]\n",
        "    for i in range(tamanho):\n",
        "        for j in range(0, tamanho-i-1):\n",
        "            if lista[j] < lista[j+1]:\n",
        "                lista[j], lista[j+1] = lista[j+1], lista[j]\n",
        "\n",
        "    return lista\n",
        "\n",
        "lista = [\n",
        "  27,\n",
        "  0,\n",
        "  32,\n",
        "  100,\n",
        "  2,\n",
        "  14,\n",
        "  5,\n",
        "  88\n",
        "]\n",
        "\n",
        "ordena_lista(lista)"
      ],
      "metadata": {
        "colab": {
          "base_uri": "https://localhost:8080/",
          "height": 332
        },
        "id": "FTmpbh5igag-",
        "outputId": "b500e3b6-d146-47c5-8de0-69fcc547d84f"
      },
      "execution_count": null,
      "outputs": [
        {
          "output_type": "error",
          "ename": "IndexError",
          "evalue": "ignored",
          "traceback": [
            "\u001b[0;31m---------------------------------------------------------------------------\u001b[0m",
            "\u001b[0;31mIndexError\u001b[0m                                Traceback (most recent call last)",
            "\u001b[0;32m<ipython-input-5-ec176abfa8cf>\u001b[0m in \u001b[0;36m<cell line: 22>\u001b[0;34m()\u001b[0m\n\u001b[1;32m     20\u001b[0m ]\n\u001b[1;32m     21\u001b[0m \u001b[0;34m\u001b[0m\u001b[0m\n\u001b[0;32m---> 22\u001b[0;31m \u001b[0mordena_lista\u001b[0m\u001b[0;34m(\u001b[0m\u001b[0mlista\u001b[0m\u001b[0;34m)\u001b[0m\u001b[0;34m\u001b[0m\u001b[0;34m\u001b[0m\u001b[0m\n\u001b[0m",
            "\u001b[0;32m<ipython-input-5-ec176abfa8cf>\u001b[0m in \u001b[0;36mordena_lista\u001b[0;34m(listaA)\u001b[0m\n\u001b[1;32m      4\u001b[0m     \u001b[0;32mfor\u001b[0m \u001b[0mi\u001b[0m \u001b[0;32min\u001b[0m \u001b[0mrange\u001b[0m\u001b[0;34m(\u001b[0m\u001b[0mtamanho\u001b[0m\u001b[0;34m)\u001b[0m\u001b[0;34m:\u001b[0m\u001b[0;34m\u001b[0m\u001b[0;34m\u001b[0m\u001b[0m\n\u001b[1;32m      5\u001b[0m         \u001b[0;32mfor\u001b[0m \u001b[0mj\u001b[0m \u001b[0;32min\u001b[0m \u001b[0mrange\u001b[0m\u001b[0;34m(\u001b[0m\u001b[0;36m0\u001b[0m\u001b[0;34m,\u001b[0m \u001b[0mtamanho\u001b[0m\u001b[0;34m-\u001b[0m\u001b[0mi\u001b[0m\u001b[0;34m-\u001b[0m\u001b[0;36m1\u001b[0m\u001b[0;34m)\u001b[0m\u001b[0;34m:\u001b[0m\u001b[0;34m\u001b[0m\u001b[0;34m\u001b[0m\u001b[0m\n\u001b[0;32m----> 6\u001b[0;31m             \u001b[0;32mif\u001b[0m \u001b[0mlista\u001b[0m\u001b[0;34m[\u001b[0m\u001b[0mj\u001b[0m\u001b[0;34m]\u001b[0m \u001b[0;34m<\u001b[0m \u001b[0mlista\u001b[0m\u001b[0;34m[\u001b[0m\u001b[0mj\u001b[0m\u001b[0;34m+\u001b[0m\u001b[0;36m1\u001b[0m\u001b[0;34m]\u001b[0m\u001b[0;34m:\u001b[0m\u001b[0;34m\u001b[0m\u001b[0;34m\u001b[0m\u001b[0m\n\u001b[0m\u001b[1;32m      7\u001b[0m                 \u001b[0mlista\u001b[0m\u001b[0;34m[\u001b[0m\u001b[0mj\u001b[0m\u001b[0;34m]\u001b[0m\u001b[0;34m,\u001b[0m \u001b[0mlista\u001b[0m\u001b[0;34m[\u001b[0m\u001b[0mj\u001b[0m\u001b[0;34m+\u001b[0m\u001b[0;36m1\u001b[0m\u001b[0;34m]\u001b[0m \u001b[0;34m=\u001b[0m \u001b[0mlista\u001b[0m\u001b[0;34m[\u001b[0m\u001b[0mj\u001b[0m\u001b[0;34m+\u001b[0m\u001b[0;36m1\u001b[0m\u001b[0;34m]\u001b[0m\u001b[0;34m,\u001b[0m \u001b[0mlista\u001b[0m\u001b[0;34m[\u001b[0m\u001b[0mj\u001b[0m\u001b[0;34m]\u001b[0m\u001b[0;34m\u001b[0m\u001b[0;34m\u001b[0m\u001b[0m\n\u001b[1;32m      8\u001b[0m \u001b[0;34m\u001b[0m\u001b[0m\n",
            "\u001b[0;31mIndexError\u001b[0m: list index out of range"
          ]
        }
      ]
    },
    {
      "cell_type": "markdown",
      "source": [
        "## Remover elementos de listas\n",
        "Considere que uma empresa desenvolveu uma aplicação que solicita ao usuário uma dada informação, como, por exemplo, o segundo nome deste usuário. O programa recebe essa informação e armazena em uma lista de strings. Entretanto, caso um usuário acidentalmente não tenha preenchido esta informação, a lista conterá elementos vazios. Por exemplo, dada uma lista com 5 nomes: listaDeNomes = ['Araújo', 'Alexandre', 'Silva', 'Flávio', ''], note que o último elemento da lista é apenas uma string vazia representada pelas aspas vazias.\n",
        "\n",
        "Sabendo disso, faça uma função removerElementosVazios() que recebe uma lista de nomes e retorna a lista sem os elementos vazios."
      ],
      "metadata": {
        "id": "tD1MvcZ9iBOP"
      }
    },
    {
      "cell_type": "code",
      "source": [
        "def removerElementosVazios(listaA):\n",
        "\tfor item in listaA:\n",
        "\t\tif item == '':\n",
        "\t\t\tlistaA.remove('')\n",
        "\n",
        "\treturn  listaA\n",
        "\n",
        "\n",
        "listaDeNomes = [\n",
        "  \"Maria\",\n",
        "  \"Coutinho\",\n",
        "  \"\"\n",
        "]\n",
        "removerElementosVazios(listaDeNomes)\n"
      ],
      "metadata": {
        "colab": {
          "base_uri": "https://localhost:8080/"
        },
        "id": "P-zCPCpjiDFl",
        "outputId": "ccd995e3-2297-4aff-9bc3-eab24d73ca59"
      },
      "execution_count": null,
      "outputs": [
        {
          "output_type": "execute_result",
          "data": {
            "text/plain": [
              "['Maria', 'Coutinho']"
            ]
          },
          "metadata": {},
          "execution_count": 19
        }
      ]
    },
    {
      "cell_type": "markdown",
      "source": [
        "## Slice\n",
        "Apesar de utilizarmos listas para armazenar vários elementos, existem situações em que precisamos utilizar apenas parte desta lista. Por exemplo, podemos guardar em uma lista de 30 elementos com o registro do preço do dólar a cada dia nos últimos 30 dias. Posteriormente, podemos querer visualizar o custo do dólar apenas nos últimos 7 dias, para isso pegando os últimos 7 elementos da lista ao invés de 30.\n",
        "\n",
        "Em python, quando selecionamos partes da lista, denominamos esta operação de slicing, podendo ser realizada não apenas para seleção dos últimos elementos da lista, como também elementos em qualquer posição da lista.\n",
        "\n",
        "Sabendo disso, crie uma função particionarLista() em python que recebe uma lista e retorne apenas os elementos das posições 5 até 12."
      ],
      "metadata": {
        "id": "yXP5qVgjj6u0"
      }
    },
    {
      "cell_type": "code",
      "source": [
        "def particionarLista(listaA):\n",
        "\tlista = []\n",
        "\ttamanho =  len(listaA)\n",
        "\tif tamanho >= 12:\n",
        "\t\tlista = listaA[5:12]\n",
        "\n",
        "\treturn lista\n",
        "\n",
        "\n",
        "lista = [\n",
        "  47,\n",
        "  27,\n",
        "  25,\n",
        "  27,\n",
        "  13,\n",
        "  47,\n",
        "  49,\n",
        "  39,\n",
        "  9,\n",
        "  45,\n",
        "  13,\n",
        "  37\n",
        "]\n",
        "\n",
        "particionarLista(lista)\n"
      ],
      "metadata": {
        "colab": {
          "base_uri": "https://localhost:8080/"
        },
        "id": "Apr4ny6Zj9Pe",
        "outputId": "6b2764be-b33a-448d-ad85-709d7b26e31f"
      },
      "execution_count": null,
      "outputs": [
        {
          "output_type": "execute_result",
          "data": {
            "text/plain": [
              "[47, 49, 39, 9, 45, 13, 37]"
            ]
          },
          "metadata": {},
          "execution_count": 22
        }
      ]
    },
    {
      "cell_type": "markdown",
      "source": [
        "## Adicionar elementos em listas\n",
        "Quando utilizamos listas, uma das vantagens é que podemos adicionar novos elementos com o passar do tempo. Podemos inserir elementos tanto ao final da lista, como também em uma posição específica.\n",
        "\n",
        "Sabendo disso, faça uma função adicionarElemento() que recebe uma lista de números e insere o número inteiro 42 no meio da lista (isto é, em sua posição central). Note que a posição de inserção pode variar a depender da quantidade de elementos na lista original."
      ],
      "metadata": {
        "id": "Lhqgc2kxk3p-"
      }
    },
    {
      "cell_type": "code",
      "source": [
        "def adicionarElemento(listaA):\n",
        "\ttamanho = len(listaA)\n",
        "\tcentro = (tamanho // 2) + 1\n",
        "\tlistaA.insert(centro,42)\n",
        "\treturn listaA\n",
        "\n",
        "\n",
        "lista = [\n",
        "  44,\n",
        "  38,\n",
        "  38,\n",
        "  4,\n",
        "  42,\n",
        "  8,\n",
        "  33\n",
        "]\n",
        "\n",
        "adicionarElemento(lista)"
      ],
      "metadata": {
        "colab": {
          "base_uri": "https://localhost:8080/"
        },
        "id": "_VU4cFC2k5J3",
        "outputId": "0337088a-4621-4b13-d94f-4f9043cd456e"
      },
      "execution_count": null,
      "outputs": [
        {
          "output_type": "execute_result",
          "data": {
            "text/plain": [
              "[44, 38, 38, 4, 42, 42, 8, 33]"
            ]
          },
          "metadata": {},
          "execution_count": 26
        }
      ]
    },
    {
      "cell_type": "markdown",
      "source": [
        "## Elemento e índice\n",
        "Em python, muitas vezes é útil iterarmos tanto pelos elementos quanto pelos índices de listas. Sabendo disso, crie uma função calculaPotencia() que recebe uma lista A e retorna uma lista B, tal que os elementos desta lista sejam iguais aos elementos da lista A elevado a potência igual ao índice do respectivo elemento.\n",
        "\n",
        "Por exemplo, dado uma lista A = [2,5,6], gere uma lista B = [2^0, 5^1, 6^2]."
      ],
      "metadata": {
        "id": "dKVuqZcim0Jo"
      }
    },
    {
      "cell_type": "code",
      "source": [
        "def calculaPotencia(tuplaA):\n",
        "    lista = []\n",
        "    for i in range(len(tuplaA)):\n",
        "        lista.append(tuplaA[i] ** i)\n",
        "\n",
        "    return lista\n",
        "\n",
        "A = [2, 5, 6]\n",
        "resultado = calculaPotencia(A)\n",
        "print(resultado)\n",
        "\n",
        "\n",
        "\n"
      ],
      "metadata": {
        "colab": {
          "base_uri": "https://localhost:8080/"
        },
        "id": "9Pb1FcyCm10o",
        "outputId": "35a87619-c205-436d-a1d3-fa6054fa11f4"
      },
      "execution_count": null,
      "outputs": [
        {
          "output_type": "stream",
          "name": "stdout",
          "text": [
            "[1, 5, 36]\n"
          ]
        }
      ]
    },
    {
      "cell_type": "markdown",
      "source": [
        "Função zip\n",
        "## Em programação, podemos fazer uso de diferentes listas para armazenar nossos dados para, posteriormente, unir informações destas listas. Por exemplo, podemos guardar em uma lista os nomes de funcionários de uma empresa e, em outra lista, os cargos que estes funcionários ocupam.\n",
        "\n",
        "funcionarios = [\"Paulo\", \"Andrea\", \"Marta\"]\n",
        "profissao = [\"cientista de dados\", \"engenheiro de dados\", \"desenvolvedor\"]\n",
        "Dado essas duas listas, podemos querer exibir as duas informações conjuntamente da seguinte forma:\n",
        "\n",
        "[('Paulo', 'cientista de dados'), ('Andrea', 'engenheiro de dados'), ('Marta', 'desenvolvedor')]\n",
        "Podemos fazer isto por meio da função zip que recebe as duas listas e retorna uma saída como exposta acima. Além de exibir os valores, podemos fazer uso da função zip para diversas funcionalidades. Sabendo disso, crie uma função ultimoElementoLista2D() que receba uma lista de duas dimensões (isto é, uma lista de listas, na forma de matriz) e utilize o zip para retornar o último elemento de cada sublista.\n",
        "\n",
        "Por exemplo, se tivermos a lista abaixo:\n",
        "\n",
        "[[192, 193, 194],\n",
        " [507, 508, 509],\n",
        " [526, 527, 528, 529],\n",
        " [560, 561],\n",
        " [635, 636, 637]]\n",
        "Retorne [194, 509, 529, 561, 637]."
      ],
      "metadata": {
        "id": "iprCzZzFn1tz"
      }
    },
    {
      "cell_type": "code",
      "source": [],
      "metadata": {
        "id": "er4DzM46n4z7"
      },
      "execution_count": null,
      "outputs": []
    }
  ]
}