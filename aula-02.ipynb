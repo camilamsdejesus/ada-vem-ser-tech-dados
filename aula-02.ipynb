{
 "cells": [
  {
   "cell_type": "markdown",
   "metadata": {},
   "source": [
    "## Listas\n",
    "\n",
    "Coleção mutável de objetos\n",
    "\n",
    "A lista possui valores (elementos) e índices\n",
    "\n",
    "O indice começa em zero"
   ]
  },
  {
   "cell_type": "code",
   "execution_count": 1,
   "metadata": {},
   "outputs": [],
   "source": [
    "lista = [] # lista vazia\n",
    "\n",
    "lista1 = list() # lista vazia\n",
    "\n",
    "lista2 = [1, 2, 3]\n",
    "\n",
    "lista3 = ['a', 'b', 'c']\n",
    "\n",
    "lista4 = [1, 2.0, -3, \"quatro\", True] # elementos são de tipos diferentes\n",
    "\n",
    "lista5 = [1, 2.0, -3, \"quatro\", True, [2, 3]]"
   ]
  },
  {
   "cell_type": "code",
   "execution_count": 2,
   "metadata": {},
   "outputs": [
    {
     "name": "stdout",
     "output_type": "stream",
     "text": [
      "<class 'list'>\n"
     ]
    }
   ],
   "source": [
    "print(type(lista))"
   ]
  },
  {
   "cell_type": "code",
   "execution_count": 3,
   "metadata": {},
   "outputs": [
    {
     "name": "stdout",
     "output_type": "stream",
     "text": [
      "quatro\n"
     ]
    }
   ],
   "source": [
    "# Acessando o elemento da lista\n",
    "lista5 = [1, 2.0, -3, \"quatro\", True, [2, 3]]\n",
    "print(lista5[3])"
   ]
  },
  {
   "cell_type": "code",
   "execution_count": 4,
   "metadata": {},
   "outputs": [
    {
     "name": "stdout",
     "output_type": "stream",
     "text": [
      "[1, 2.0, -4, 'quatro', True, [2, 3]]\n"
     ]
    }
   ],
   "source": [
    "# substituindo elementos da lista (mutável)\n",
    "\n",
    "lista5[2] = -4 # substituindo o número -3 por -4\n",
    "print(lista5)"
   ]
  },
  {
   "cell_type": "code",
   "execution_count": 7,
   "metadata": {},
   "outputs": [
    {
     "name": "stdout",
     "output_type": "stream",
     "text": [
      "[7, 9, 11, 13, 15, 17]\n",
      "[7, 9, 11, 13, 15]\n"
     ]
    },
    {
     "data": {
      "text/plain": [
       "[7, 9, 11, 13, 15]"
      ]
     },
     "execution_count": 7,
     "metadata": {},
     "output_type": "execute_result"
    }
   ],
   "source": [
    "# Acessar uma parte da lista (slice)\n",
    "impares = [1, 3, 5, 7, 9, 11, 13, 15, 17]\n",
    "\n",
    "print(impares[3:])\n",
    "\n",
    "#o último valor é excludente\n",
    "print(impares[3:8])\n",
    "\n",
    "#-1 seleciona o último valor da lista (ou a última posição) ---SLICE : ele vai até a última posição\n",
    "impares[3:-1] "
   ]
  },
  {
   "cell_type": "code",
   "execution_count": 8,
   "metadata": {},
   "outputs": [
    {
     "data": {
      "text/plain": [
       "[3, 6, 9]"
      ]
     },
     "execution_count": 8,
     "metadata": {},
     "output_type": "execute_result"
    }
   ],
   "source": [
    "# Slice\n",
    "\n",
    "numeros = [0, 1, 2, 3, 4, 5, 6, 7, 8, 9, 10, 11, 12, 13, 14, 15]\n",
    "\n",
    "numeros[3:11:3] # posições --> [indice_inicial, indice_final, passo]"
   ]
  },
  {
   "cell_type": "code",
   "execution_count": 9,
   "metadata": {},
   "outputs": [
    {
     "data": {
      "text/plain": [
       "16"
      ]
     },
     "execution_count": 9,
     "metadata": {},
     "output_type": "execute_result"
    }
   ],
   "source": [
    "# tamanho da lista\n",
    "len(numeros) "
   ]
  },
  {
   "cell_type": "code",
   "execution_count": 10,
   "metadata": {},
   "outputs": [
    {
     "name": "stdout",
     "output_type": "stream",
     "text": [
      "0\n",
      "1\n",
      "2\n",
      "3\n",
      "4\n",
      "5\n",
      "6\n",
      "7\n",
      "8\n",
      "9\n",
      "10\n",
      "11\n",
      "12\n",
      "13\n",
      "14\n",
      "15\n"
     ]
    }
   ],
   "source": [
    "# Percorrer a lista\n",
    "numeros = [0, 1, 2, 3, 4, 5, 6, 7, 8, 9, 10, 11, 12, 13, 14, 15]\n",
    "for elemento in numeros:\n",
    "    print(elemento)"
   ]
  },
  {
   "cell_type": "code",
   "execution_count": 12,
   "metadata": {},
   "outputs": [
    {
     "name": "stdout",
     "output_type": "stream",
     "text": [
      "0\n",
      "1\n",
      "2\n",
      "3\n",
      "4\n",
      "5\n",
      "6\n",
      "7\n",
      "8\n",
      "9\n",
      "10\n",
      "11\n",
      "12\n",
      "13\n",
      "14\n",
      "15\n"
     ]
    }
   ],
   "source": [
    "# outra forma de percorrer a lista\n",
    "tamanho = len(numeros)\n",
    "for indice in range(tamanho):\n",
    "    print(numeros[indice])"
   ]
  },
  {
   "cell_type": "code",
   "execution_count": null,
   "metadata": {},
   "outputs": [],
   "source": [
    "# ordenar os elementos\n",
    "lista= [10,5,3,4,1,72]\n",
    "auxiliar = 0 \n",
    "\n",
    "for indice in lista:\n",
    "    auxiliar = element\n",
    "    \n",
    "# percorre a lista procurando o menor valor e adiciona em uma nova lista, excluindo da lista anterior"
   ]
  },
  {
   "cell_type": "markdown",
   "metadata": {},
   "source": [
    "### Métodos e Funções de listas\n",
    "https://docs.python.org/3/tutorial/datastructures.html"
   ]
  },
  {
   "cell_type": "code",
   "execution_count": 13,
   "metadata": {},
   "outputs": [
    {
     "data": {
      "text/plain": [
       "[1, 3, 4, 5, 10, 72]"
      ]
     },
     "execution_count": 13,
     "metadata": {},
     "output_type": "execute_result"
    }
   ],
   "source": [
    "lista= [10,5,3,4,1,72]\n",
    "sorted(lista) # função sorted\n",
    "\n",
    "# a função sorted NÃO altera a lista original, a não ser que seja atribuída ela mesma ou a outra lista"
   ]
  },
  {
   "cell_type": "code",
   "execution_count": 14,
   "metadata": {},
   "outputs": [
    {
     "data": {
      "text/plain": [
       "[72, 10, 5, 4, 3, 1]"
      ]
     },
     "execution_count": 14,
     "metadata": {},
     "output_type": "execute_result"
    }
   ],
   "source": [
    "sorted(lista, reverse=True) # função sorted decrescente"
   ]
  },
  {
   "cell_type": "code",
   "execution_count": 15,
   "metadata": {},
   "outputs": [],
   "source": [
    "lista.sort() # tente lista.reverse()"
   ]
  },
  {
   "cell_type": "code",
   "execution_count": 17,
   "metadata": {},
   "outputs": [
    {
     "name": "stdout",
     "output_type": "stream",
     "text": [
      "[0, 2, 4, 6, 8]\n",
      "Acrescenta um valor ao final da lista\n",
      "[0, 2, 4, 6, 8, 10]\n",
      "Insere na posição 3 o valor 6\n",
      "[0, 2, 4, 6, 6, 8, 10]\n",
      "Remove o primeiro valor 4 encontrado\n",
      "[0, 2, 6, 6, 8, 10]\n",
      "Remove o elemento da posição 1\n",
      "[0, 6, 6, 8, 10]\n"
     ]
    }
   ],
   "source": [
    "\n",
    "pares = [0, 2, 4, 6, 8]\n",
    "print(pares)\n",
    "\n",
    "pares.append(10) # acrescenta um valor ao final da lista\n",
    "print(\"Acrescenta um valor ao final da lista\")\n",
    "print(pares)\n",
    "\n",
    "print(\"Insere na posição 3 o valor 6\")\n",
    "pares.insert(3, 6) # insere na posição 3 o valor 6\n",
    "print(pares)\n",
    "\n",
    "print(\"Remove o primeiro valor 4 encontrado\")\n",
    "pares.remove(4) # Remove o primeiro valor encontrado\n",
    "print(pares)\n",
    "print(\"Remove o elemento da posição 1\")\n",
    "pares.pop(1) # Remove o elemento da posição 1\n",
    "print(pares)"
   ]
  },
  {
   "cell_type": "code",
   "execution_count": 18,
   "metadata": {},
   "outputs": [
    {
     "data": {
      "text/plain": [
       "4"
      ]
     },
     "execution_count": 18,
     "metadata": {},
     "output_type": "execute_result"
    }
   ],
   "source": [
    "# Buscar um elemento\n",
    "\n",
    "pi = [3, 1, 4, 1, 5, 9, 2, 6, 5]\n",
    "\n",
    "# quero saber o índice do valor 5\n",
    "pi.index(5) # dá a posição do primeiro valor encontrado"
   ]
  },
  {
   "cell_type": "code",
   "execution_count": 19,
   "metadata": {},
   "outputs": [
    {
     "data": {
      "text/plain": [
       "2"
      ]
     },
     "execution_count": 19,
     "metadata": {},
     "output_type": "execute_result"
    }
   ],
   "source": [
    "# Número de vezes do elemento da lista\n",
    "\n",
    "pi.count(5) # conta quantas vezes o elemento aparece na lista"
   ]
  },
  {
   "cell_type": "markdown",
   "metadata": {},
   "source": [
    "## Operações entre listas"
   ]
  },
  {
   "cell_type": "code",
   "execution_count": 20,
   "metadata": {},
   "outputs": [
    {
     "data": {
      "text/plain": [
       "[1, 2, 3, 1, 2, 3]"
      ]
     },
     "execution_count": 20,
     "metadata": {},
     "output_type": "execute_result"
    }
   ],
   "source": [
    "lista =[ 1 , 2 , 3]\n",
    "\n",
    "lista + lista # adicionou os elementos das duas listas em uma"
   ]
  },
  {
   "cell_type": "code",
   "execution_count": 21,
   "metadata": {},
   "outputs": [
    {
     "data": {
      "text/plain": [
       "[1, 2, 3, 1, 2, 3]"
      ]
     },
     "execution_count": 21,
     "metadata": {},
     "output_type": "execute_result"
    }
   ],
   "source": [
    "lista * 2 # * repete a sequência"
   ]
  },
  {
   "cell_type": "code",
   "execution_count": 22,
   "metadata": {},
   "outputs": [
    {
     "data": {
      "text/plain": [
       "[2, 4, 6]"
      ]
     },
     "execution_count": 22,
     "metadata": {},
     "output_type": "execute_result"
    }
   ],
   "source": [
    "# Multiplica por 2 cada elemento da lista\n",
    "[2*i for i in lista]"
   ]
  },
  {
   "cell_type": "markdown",
   "metadata": {},
   "source": [
    "## List Comprehension (compreensão de listas)"
   ]
  },
  {
   "cell_type": "code",
   "execution_count": 23,
   "metadata": {},
   "outputs": [
    {
     "data": {
      "text/plain": [
       "[0, 1, 4, 9, 16, 25, 36, 49, 64, 81]"
      ]
     },
     "execution_count": 23,
     "metadata": {},
     "output_type": "execute_result"
    }
   ],
   "source": [
    "# Lista com o cálculo do quadrado dos valores de 0 a 9\n",
    "\n",
    "lista_quadrados = []\n",
    "\n",
    "for i in range(10):\n",
    "    lista_quadrados.append(i * i)\n",
    "    \n",
    "lista_quadrados"
   ]
  },
  {
   "cell_type": "code",
   "execution_count": 24,
   "metadata": {},
   "outputs": [
    {
     "data": {
      "text/plain": [
       "[0, 1, 4, 9, 16, 25, 36, 49, 64, 81]"
      ]
     },
     "execution_count": 24,
     "metadata": {},
     "output_type": "execute_result"
    }
   ],
   "source": [
    "lista_quadrados2 = [i * i for i in range(10)]\n",
    "lista_quadrados2"
   ]
  },
  {
   "cell_type": "markdown",
   "metadata": {},
   "source": [
    "# STRINGS"
   ]
  },
  {
   "cell_type": "markdown",
   "metadata": {},
   "source": [
    "- string = texto, literal\n",
    "- string é uma coleção de caracteres\n",
    "- strings são imutáveis"
   ]
  },
  {
   "cell_type": "code",
   "execution_count": 25,
   "metadata": {},
   "outputs": [],
   "source": [
    "variavel1 = 'texto'\n",
    "variavel2 = \"palavra\"\n",
    "variavel3 = \"Let's Code\""
   ]
  },
  {
   "cell_type": "code",
   "execution_count": 26,
   "metadata": {},
   "outputs": [
    {
     "data": {
      "text/plain": [
       "str"
      ]
     },
     "execution_count": 26,
     "metadata": {},
     "output_type": "execute_result"
    }
   ],
   "source": [
    "type(variavel3)"
   ]
  },
  {
   "cell_type": "code",
   "execution_count": 27,
   "metadata": {},
   "outputs": [
    {
     "name": "stdout",
     "output_type": "stream",
     "text": [
      "L\n",
      "e\n",
      "t\n",
      "'\n",
      "s\n"
     ]
    }
   ],
   "source": [
    "# Acessar uma string\n",
    "\n",
    "frase = \"Let's Code by Ada Tech\"\n",
    "\n",
    "print(frase[0]) # acessa a partir de índices\n",
    "print(frase[1])\n",
    "print(frase[2])\n",
    "print(frase[3])\n",
    "print(frase[4])"
   ]
  },
  {
   "cell_type": "code",
   "execution_count": 28,
   "metadata": {},
   "outputs": [
    {
     "ename": "TypeError",
     "evalue": "'str' object does not support item assignment",
     "output_type": "error",
     "traceback": [
      "\u001b[0;31m---------------------------------------------------------------------------\u001b[0m",
      "\u001b[0;31mTypeError\u001b[0m                                 Traceback (most recent call last)",
      "\u001b[1;32m/workspaces/ada-vem-ser-tech-dados/aula-02.ipynb Cell 31\u001b[0m line \u001b[0;36m1\n\u001b[0;32m----> <a href='vscode-notebook-cell://codespaces%2Borganic-space-fiesta-7x5pwxw6v99396v/workspaces/ada-vem-ser-tech-dados/aula-02.ipynb#X50sdnNjb2RlLXJlbW90ZQ%3D%3D?line=0'>1</a>\u001b[0m frase[\u001b[39m0\u001b[39;49m] \u001b[39m=\u001b[39m \u001b[39m'\u001b[39m\u001b[39mp\u001b[39m\u001b[39m'\u001b[39m\n",
      "\u001b[0;31mTypeError\u001b[0m: 'str' object does not support item assignment"
     ]
    }
   ],
   "source": [
    "frase[0] = 'p'"
   ]
  },
  {
   "cell_type": "code",
   "execution_count": 29,
   "metadata": {},
   "outputs": [
    {
     "name": "stdout",
     "output_type": "stream",
     "text": [
      "L\n",
      "e\n",
      "t\n",
      "'\n",
      "s\n",
      " \n",
      "C\n",
      "o\n",
      "d\n",
      "e\n",
      " \n",
      "b\n",
      "y\n",
      " \n",
      "A\n",
      "d\n",
      "a\n",
      " \n",
      "T\n",
      "e\n",
      "c\n",
      "h\n"
     ]
    }
   ],
   "source": [
    "for caracter in frase:\n",
    "    print(caracter)"
   ]
  },
  {
   "cell_type": "markdown",
   "metadata": {},
   "source": [
    "## Operações entre strings"
   ]
  },
  {
   "cell_type": "markdown",
   "metadata": {},
   "source": [
    "- Concatenar (unir duas ou mais strings)"
   ]
  },
  {
   "cell_type": "code",
   "execution_count": 31,
   "metadata": {},
   "outputs": [
    {
     "name": "stdout",
     "output_type": "stream",
     "text": [
      "dia das crianças\n"
     ]
    }
   ],
   "source": [
    "palavra1 = \"crianças\"\n",
    "palavra2 = \"dia das \"\n",
    "frase = palavra2 + palavra1\n",
    "print(frase)"
   ]
  },
  {
   "cell_type": "markdown",
   "metadata": {},
   "source": [
    "- Concatenar string com inteiro e float"
   ]
  },
  {
   "cell_type": "code",
   "execution_count": 32,
   "metadata": {},
   "outputs": [
    {
     "name": "stdout",
     "output_type": "stream",
     "text": [
      "A minha idade é 22 anos e minha altura é 1.67 metros\n"
     ]
    }
   ],
   "source": [
    "idade = 22\n",
    "altura = 1.67\n",
    "\n",
    "nova_frase = 'A minha idade é ' + str(idade) + ' anos e minha altura é ' + str(altura) + ' metros'\n",
    "\n",
    "print(nova_frase)"
   ]
  },
  {
   "cell_type": "markdown",
   "metadata": {},
   "source": [
    "- repetir a string n vezes"
   ]
  },
  {
   "cell_type": "code",
   "execution_count": 34,
   "metadata": {},
   "outputs": [
    {
     "data": {
      "text/plain": [
       "'textotextotexto'"
      ]
     },
     "execution_count": 34,
     "metadata": {},
     "output_type": "execute_result"
    }
   ],
   "source": [
    "string1 = 'texto'\n",
    "\n",
    "string1 * 3\n",
    "\n"
   ]
  },
  {
   "cell_type": "markdown",
   "metadata": {},
   "source": [
    " - Copiar uma string através do operador de concatenar"
   ]
  },
  {
   "cell_type": "code",
   "execution_count": 35,
   "metadata": {},
   "outputs": [
    {
     "name": "stdout",
     "output_type": "stream",
     "text": [
      "letra:  M\n",
      "string_final \n",
      "string_final M\n",
      "mais uma rodada\n",
      "\n",
      "letra:  u\n",
      "string_final M\n",
      "string_final Mu\n",
      "mais uma rodada\n",
      "\n",
      "letra:  n\n",
      "string_final Mu\n",
      "string_final Mun\n",
      "mais uma rodada\n",
      "\n",
      "letra:  d\n",
      "string_final Mun\n",
      "string_final Mund\n",
      "mais uma rodada\n",
      "\n",
      "letra:  o\n",
      "string_final Mund\n",
      "string_final Mundo\n",
      "mais uma rodada\n",
      "\n"
     ]
    }
   ],
   "source": [
    "string_inicial = 'Mundo'\n",
    "string_final = '' # iniciando uma variável com o valor string vazio\n",
    "\n",
    "for letra in string_inicial:\n",
    "    print('letra: ', letra)\n",
    "    print('string_final', string_final)\n",
    "    \n",
    "    string_final = string_final + letra\n",
    "    \n",
    "    print('string_final', string_final)\n",
    "    print('mais uma rodada\\n')"
   ]
  },
  {
   "cell_type": "markdown",
   "metadata": {},
   "source": [
    "- Transformando uma string em lista"
   ]
  },
  {
   "cell_type": "code",
   "execution_count": 36,
   "metadata": {},
   "outputs": [
    {
     "data": {
      "text/plain": [
       "['t', 'e', 'x', 't', 'o']"
      ]
     },
     "execution_count": 36,
     "metadata": {},
     "output_type": "execute_result"
    }
   ],
   "source": [
    "frase = 'texto'\n",
    "\n",
    "list(frase) # transforma string em lista"
   ]
  },
  {
   "cell_type": "code",
   "execution_count": 37,
   "metadata": {},
   "outputs": [
    {
     "data": {
      "text/plain": [
       "['t', 'e', 'x', 't', 'o']"
      ]
     },
     "execution_count": 37,
     "metadata": {},
     "output_type": "execute_result"
    }
   ],
   "source": [
    "lista_frase = list(frase)\n",
    "lista_frase"
   ]
  },
  {
   "cell_type": "code",
   "execution_count": 38,
   "metadata": {},
   "outputs": [
    {
     "name": "stdout",
     "output_type": "stream",
     "text": [
      "['T', 'e', 'x', 't', 'o']\n"
     ]
    }
   ],
   "source": [
    "# na lista consigo alterar a letra 't' por 'T'?\n",
    "\n",
    "lista_frase[0] = 'T'\n",
    "\n",
    "print(lista_frase)"
   ]
  },
  {
   "cell_type": "code",
   "execution_count": 39,
   "metadata": {},
   "outputs": [
    {
     "ename": "TypeError",
     "evalue": "'str' object does not support item assignment",
     "output_type": "error",
     "traceback": [
      "\u001b[0;31m---------------------------------------------------------------------------\u001b[0m",
      "\u001b[0;31mTypeError\u001b[0m                                 Traceback (most recent call last)",
      "\u001b[1;32m/workspaces/ada-vem-ser-tech-dados/aula-02.ipynb Cell 46\u001b[0m line \u001b[0;36m1\n\u001b[0;32m----> <a href='vscode-notebook-cell://codespaces%2Borganic-space-fiesta-7x5pwxw6v99396v/workspaces/ada-vem-ser-tech-dados/aula-02.ipynb#Y103sdnNjb2RlLXJlbW90ZQ%3D%3D?line=0'>1</a>\u001b[0m frase[\u001b[39m0\u001b[39;49m] \u001b[39m=\u001b[39m \u001b[39m'\u001b[39m\u001b[39mT\u001b[39m\u001b[39m'\u001b[39m\n",
      "\u001b[0;31mTypeError\u001b[0m: 'str' object does not support item assignment"
     ]
    }
   ],
   "source": [
    "frase[0] = 'T'"
   ]
  }
 ],
 "metadata": {
  "kernelspec": {
   "display_name": "Python 3",
   "language": "python",
   "name": "python3"
  },
  "language_info": {
   "codemirror_mode": {
    "name": "ipython",
    "version": 3
   },
   "file_extension": ".py",
   "mimetype": "text/x-python",
   "name": "python",
   "nbconvert_exporter": "python",
   "pygments_lexer": "ipython3",
   "version": "3.10.8"
  }
 },
 "nbformat": 4,
 "nbformat_minor": 2
}
